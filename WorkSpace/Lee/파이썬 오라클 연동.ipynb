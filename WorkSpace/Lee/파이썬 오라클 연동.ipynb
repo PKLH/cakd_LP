{
 "cells": [
  {
   "cell_type": "markdown",
   "metadata": {
    "toc": true
   },
   "source": [
    "<h1>Table of Contents<span class=\"tocSkip\"></span></h1>\n",
    "<div class=\"toc\"><ul class=\"toc-item\"></ul></div>"
   ]
  },
  {
   "cell_type": "code",
   "execution_count": 1,
   "metadata": {
    "colab": {
     "base_uri": "https://localhost:8080/"
    },
    "executionInfo": {
     "elapsed": 24543,
     "status": "ok",
     "timestamp": 1631769699080,
     "user": {
      "displayName": "신인철",
      "photoUrl": "https://lh3.googleusercontent.com/a/default-user=s64",
      "userId": "11638434393479157475"
     },
     "user_tz": -540
    },
    "id": "I1EPic-Aqccj",
    "outputId": "6af9554c-ef63-40e8-e4b9-251b78631b8b"
   },
   "outputs": [
    {
     "name": "stdout",
     "output_type": "stream",
     "text": [
      "Mounted at /content/drive\n"
     ]
    }
   ],
   "source": [
    "import os, sys\n",
    "from google.colab import drive\n",
    "drive.mount('/content/drive')\n",
    "my_path = '/content/notebooks'\n",
    "os.symlink('/content/drive/My Drive/Colab Notebooks', my_path)\n",
    "sys.path.insert(0,my_path)"
   ]
  },
  {
   "cell_type": "code",
   "execution_count": 2,
   "metadata": {
    "colab": {
     "base_uri": "https://localhost:8080/"
    },
    "executionInfo": {
     "elapsed": 4374,
     "status": "ok",
     "timestamp": 1631769703448,
     "user": {
      "displayName": "신인철",
      "photoUrl": "https://lh3.googleusercontent.com/a/default-user=s64",
      "userId": "11638434393479157475"
     },
     "user_tz": -540
    },
    "id": "b5C2URm9q75L",
    "outputId": "f79107d5-a5f5-4632-9baa-5068ba703685"
   },
   "outputs": [
    {
     "name": "stdout",
     "output_type": "stream",
     "text": [
      "Collecting cx_Oracle\n",
      "  Downloading cx_Oracle-8.2.1-cp37-cp37m-manylinux1_x86_64.whl (827 kB)\n",
      "\u001b[K     |████████████████████████████████| 827 kB 5.1 MB/s eta 0:00:01\n",
      "\u001b[?25hInstalling collected packages: cx-Oracle\n",
      "Successfully installed cx-Oracle-8.2.1\n",
      "\u001b[33mWARNING: Target directory /content/notebooks/cx_Oracle-8.2.1.dist-info already exists. Specify --upgrade to force replacement.\u001b[0m\n",
      "\u001b[33mWARNING: Target directory /content/notebooks/cx_Oracle.cpython-37m-x86_64-linux-gnu.so already exists. Specify --upgrade to force replacement.\u001b[0m\n",
      "\u001b[33mWARNING: Target directory /content/notebooks/cx_Oracle-doc already exists. Specify --upgrade to force replacement.\u001b[0m\n"
     ]
    }
   ],
   "source": [
    "!pip install --target=$my_path cx_Oracle"
   ]
  },
  {
   "cell_type": "code",
   "execution_count": 3,
   "metadata": {
    "colab": {
     "base_uri": "https://localhost:8080/"
    },
    "executionInfo": {
     "elapsed": 603,
     "status": "ok",
     "timestamp": 1631769704047,
     "user": {
      "displayName": "신인철",
      "photoUrl": "https://lh3.googleusercontent.com/a/default-user=s64",
      "userId": "11638434393479157475"
     },
     "user_tz": -540
    },
    "id": "gIdblQucrME4",
    "outputId": "18ba7882-e49e-4f9e-e739-69dc172620b1"
   },
   "outputs": [
    {
     "name": "stdout",
     "output_type": "stream",
     "text": [
      "ls: cannot access 'oracle-instantclient*-basiclite-*.rpm': No such file or directory\n",
      "--2021-09-16 05:21:43--  https://yum.oracle.com/repo/OracleLinux/OL7/oracle/instantclient/x86_64/getPackage/oracle-instantclient19.3-basiclite-19.3.0.0.0-1.x86_64.rpm\n",
      "Resolving yum.oracle.com (yum.oracle.com)... 69.192.209.79, 2600:1407:3c00:38d::2a7d, 2600:1407:3c00:3a6::2a7d\n",
      "Connecting to yum.oracle.com (yum.oracle.com)|69.192.209.79|:443... connected.\n",
      "HTTP request sent, awaiting response... 200 OK\n",
      "Length: 28553496 (27M) [application/x-rpm]\n",
      "Saving to: ‘oracle-instantclient19.3-basiclite-19.3.0.0.0-1.x86_64.rpm’\n",
      "\n",
      "oracle-instantclien 100%[===================>]  27.23M   122MB/s    in 0.2s    \n",
      "\n",
      "2021-09-16 05:21:43 (122 MB/s) - ‘oracle-instantclient19.3-basiclite-19.3.0.0.0-1.x86_64.rpm’ saved [28553496/28553496]\n",
      "\n",
      "ls: cannot access 'oracle-instantclient*-sqlplus-*.rpm': No such file or directory\n",
      "--2021-09-16 05:21:43--  https://yum.oracle.com/repo/OracleLinux/OL7/oracle/instantclient/x86_64/getPackage/oracle-instantclient19.3-sqlplus-19.3.0.0.0-1.x86_64.rpm\n",
      "Resolving yum.oracle.com (yum.oracle.com)... 69.192.209.79, 2600:1407:3c00:38d::2a7d, 2600:1407:3c00:3a6::2a7d\n",
      "Connecting to yum.oracle.com (yum.oracle.com)|69.192.209.79|:443... connected.\n",
      "HTTP request sent, awaiting response... 200 OK\n",
      "Length: 702792 (686K) [application/x-rpm]\n",
      "Saving to: ‘oracle-instantclient19.3-sqlplus-19.3.0.0.0-1.x86_64.rpm’\n",
      "\n",
      "oracle-instantclien 100%[===================>] 686.32K  --.-KB/s    in 0.06s   \n",
      "\n",
      "2021-09-16 05:21:43 (11.8 MB/s) - ‘oracle-instantclient19.3-sqlplus-19.3.0.0.0-1.x86_64.rpm’ saved [702792/702792]\n",
      "\n"
     ]
    }
   ],
   "source": [
    "! ls -l oracle-instantclient*-basiclite-*.rpm || wget https://yum.oracle.com/repo/OracleLinux/OL7/oracle/instantclient/x86_64/getPackage/oracle-instantclient19.3-basiclite-19.3.0.0.0-1.x86_64.rpm\n",
    "! ls -l oracle-instantclient*-sqlplus-*.rpm   || wget https://yum.oracle.com/repo/OracleLinux/OL7/oracle/instantclient/x86_64/getPackage/oracle-instantclient19.3-sqlplus-19.3.0.0.0-1.x86_64.rpm\n"
   ]
  },
  {
   "cell_type": "code",
   "execution_count": 9,
   "metadata": {
    "colab": {
     "base_uri": "https://localhost:8080/"
    },
    "executionInfo": {
     "elapsed": 3081,
     "status": "ok",
     "timestamp": 1631769861855,
     "user": {
      "displayName": "신인철",
      "photoUrl": "https://lh3.googleusercontent.com/a/default-user=s64",
      "userId": "11638434393479157475"
     },
     "user_tz": -540
    },
    "id": "HyRqRXlzDfqr",
    "outputId": "a19e0ff2-7472-4cbb-ba31-8a69cebb0537"
   },
   "outputs": [
    {
     "name": "stdout",
     "output_type": "stream",
     "text": [
      "Reading package lists... Done\n",
      "Building dependency tree       \n",
      "Reading state information... Done\n",
      "libaio1 is already the newest version (0.3.110-5ubuntu0.1).\n",
      "libaio1 set to manually installed.\n",
      "The following additional packages will be installed:\n",
      "  autoconf automake autopoint autotools-dev cpio debhelper debugedit\n",
      "  dh-autoreconf dh-strip-nondeterminism file gettext gettext-base\n",
      "  intltool-debian libarchive-cpio-perl libarchive-zip-perl libdw1\n",
      "  libfile-stripnondeterminism-perl liblua5.2-0 libmagic-mgc libmagic1\n",
      "  libmail-sendmail-perl librpm8 librpmbuild8 librpmio8 librpmsign8 libsigsegv2\n",
      "  libsys-hostname-long-perl libtimedate-perl libtool m4 po-debconf rpm\n",
      "  rpm-common rpm2cpio\n",
      "Suggested packages:\n",
      "  lintian autoconf-archive gnu-standards autoconf-doc libarchive1 dh-make dwz\n",
      "  rpm-i18n gettext-doc libasprintf-dev libgettextpo-dev libtool-doc gcj-jdk\n",
      "  m4-doc libmail-box-perl elfutils rpmlint rpm2html\n",
      "The following NEW packages will be installed:\n",
      "  alien autoconf automake autopoint autotools-dev cpio debhelper debugedit\n",
      "  dh-autoreconf dh-strip-nondeterminism file gettext gettext-base\n",
      "  intltool-debian libarchive-cpio-perl libarchive-zip-perl libdw1\n",
      "  libfile-stripnondeterminism-perl liblua5.2-0 libmagic-mgc libmagic1\n",
      "  libmail-sendmail-perl librpm8 librpmbuild8 librpmio8 librpmsign8 libsigsegv2\n",
      "  libsys-hostname-long-perl libtimedate-perl libtool m4 po-debconf rpm\n",
      "  rpm-common rpm2cpio\n",
      "0 upgraded, 35 newly installed, 0 to remove and 40 not upgraded.\n",
      "Need to get 86.2 kB/5,696 kB of archives.\n",
      "After this operation, 25.0 MB of additional disk space will be used.\n",
      "Ign:1 http://archive.ubuntu.com/ubuntu bionic-updates/main amd64 cpio amd64 2.12+dfsg-6ubuntu0.18.04.1\n",
      "Err:1 http://security.ubuntu.com/ubuntu bionic-updates/main amd64 cpio amd64 2.12+dfsg-6ubuntu0.18.04.1\n",
      "  404  Not Found [IP: 91.189.88.142 80]\n",
      "E: Failed to fetch http://security.ubuntu.com/ubuntu/pool/main/c/cpio/cpio_2.12+dfsg-6ubuntu0.18.04.1_amd64.deb  404  Not Found [IP: 91.189.88.142 80]\n",
      "E: Unable to fetch some archives, maybe run apt-get update or try with --fix-missing?\n"
     ]
    }
   ],
   "source": [
    "! sudo apt-get install alien libaio1"
   ]
  },
  {
   "cell_type": "code",
   "execution_count": 6,
   "metadata": {
    "colab": {
     "base_uri": "https://localhost:8080/"
    },
    "executionInfo": {
     "elapsed": 316,
     "status": "ok",
     "timestamp": 1631769760013,
     "user": {
      "displayName": "신인철",
      "photoUrl": "https://lh3.googleusercontent.com/a/default-user=s64",
      "userId": "11638434393479157475"
     },
     "user_tz": -540
    },
    "id": "cY7Zk-PMDjzw",
    "outputId": "0fe79c92-ebc0-4b61-e788-4d9ea1d478a9"
   },
   "outputs": [
    {
     "name": "stdout",
     "output_type": "stream",
     "text": [
      "sudo: alien: command not found\n"
     ]
    }
   ],
   "source": [
    "!sudo alien -i oracle-instantclient19.3-basiclite-19.3.0.0.0-1.x86_64.rpm"
   ]
  },
  {
   "cell_type": "code",
   "execution_count": 7,
   "metadata": {
    "colab": {
     "base_uri": "https://localhost:8080/"
    },
    "executionInfo": {
     "elapsed": 300,
     "status": "ok",
     "timestamp": 1631769773076,
     "user": {
      "displayName": "신인철",
      "photoUrl": "https://lh3.googleusercontent.com/a/default-user=s64",
      "userId": "11638434393479157475"
     },
     "user_tz": -540
    },
    "id": "weqcjHL3Drao",
    "outputId": "54451dad-0bad-4672-9dee-017bf54c8291"
   },
   "outputs": [
    {
     "name": "stdout",
     "output_type": "stream",
     "text": [
      "sudo: alien: command not found\n"
     ]
    }
   ],
   "source": [
    "! sudo alien -i --scripts oracle-instantclient19.3-sqlplus-19.3.0.0.0-1.x86_64.rpm"
   ]
  },
  {
   "cell_type": "code",
   "execution_count": 8,
   "metadata": {
    "colab": {
     "base_uri": "https://localhost:8080/"
    },
    "executionInfo": {
     "elapsed": 279,
     "status": "ok",
     "timestamp": 1631769825331,
     "user": {
      "displayName": "신인철",
      "photoUrl": "https://lh3.googleusercontent.com/a/default-user=s64",
      "userId": "11638434393479157475"
     },
     "user_tz": -540
    },
    "id": "yHJ-Er4xD4eW",
    "outputId": "7dead560-68e9-4c8d-d42d-5d14674aa7c3"
   },
   "outputs": [
    {
     "name": "stdout",
     "output_type": "stream",
     "text": [
      "/bin/bash: line 0: type: sqlplus: not found\n",
      "ls: cannot access '/usr/bin/sqlplus': No such file or directory\n"
     ]
    }
   ],
   "source": [
    "! type sqlplus\n",
    "! ls -l /usr/bin/sqlplus"
   ]
  }
 ],
 "metadata": {
  "colab": {
   "authorship_tag": "ABX9TyN//+/mU8qgTq9Nv5sbIxK2",
   "name": "파이썬 오라클 연동.ipynb",
   "provenance": []
  },
  "kernelspec": {
   "display_name": "Python 3 (ipykernel)",
   "language": "python",
   "name": "python3"
  },
  "language_info": {
   "codemirror_mode": {
    "name": "ipython",
    "version": 3
   },
   "file_extension": ".py",
   "mimetype": "text/x-python",
   "name": "python",
   "nbconvert_exporter": "python",
   "pygments_lexer": "ipython3",
   "version": "3.9.12"
  },
  "toc": {
   "base_numbering": 1,
   "nav_menu": {},
   "number_sections": true,
   "sideBar": true,
   "skip_h1_title": true,
   "title_cell": "Table of Contents",
   "title_sidebar": "Contents",
   "toc_cell": true,
   "toc_position": {
    "height": "814.133px",
    "left": "72px",
    "top": "135px",
    "width": "212px"
   },
   "toc_section_display": true,
   "toc_window_display": true
  }
 },
 "nbformat": 4,
 "nbformat_minor": 4
}
