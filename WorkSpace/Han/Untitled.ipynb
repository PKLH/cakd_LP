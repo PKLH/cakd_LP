{
 "cells": [
  {
   "cell_type": "code",
   "execution_count": null,
   "id": "8909c609",
   "metadata": {},
   "outputs": [],
   "source": [
    "big_cat = {\n",
    "    '식품':[공산식품, 단순가공, 기타식품, 과일, 야채, 육고기, 조류,\n",
    "          어류, 연체류, 갑각류, 건어물, 어패류]\n",
    "    '일상용품':[위생용품, 애완용품, 생활기구, 화장품, 기타일상용품, 유아용품]\n",
    "    '의약품/의료기기':[의약품, 의료기기]\n",
    "    '교육/문화용품':[문구, 완구, 서적, 악기, 예술]\n",
    "    '디지털/가전':[컴퓨터, 생활가전, 소형가전, 소프트웨어, 기타가전]\n",
    "    '가구/인테리어':[정적가구, 동적가구, 침구류, 기타가구]\n",
    "    '의류':[남성의류, 여성의류, 아동의류]\n",
    "    '전문스포츠/레저':[스포츠장비, 스포츠의류, 레져]\n",
    "    '패션잡화':[귀금속, 기타패션]\n",
    "    '기타상품':[기타]\n",
    "}"
   ]
  }
 ],
 "metadata": {
  "kernelspec": {
   "display_name": "Python 3 (ipykernel)",
   "language": "python",
   "name": "python3"
  },
  "language_info": {
   "codemirror_mode": {
    "name": "ipython",
    "version": 3
   },
   "file_extension": ".py",
   "mimetype": "text/x-python",
   "name": "python",
   "nbconvert_exporter": "python",
   "pygments_lexer": "ipython3",
   "version": "3.9.13"
  },
  "toc": {
   "base_numbering": 1,
   "nav_menu": {},
   "number_sections": true,
   "sideBar": true,
   "skip_h1_title": false,
   "title_cell": "Table of Contents",
   "title_sidebar": "Contents",
   "toc_cell": false,
   "toc_position": {},
   "toc_section_display": true,
   "toc_window_display": true
  }
 },
 "nbformat": 4,
 "nbformat_minor": 5
}
